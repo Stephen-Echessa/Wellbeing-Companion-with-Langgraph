{
 "cells": [
  {
   "cell_type": "code",
   "execution_count": 1,
   "metadata": {},
   "outputs": [],
   "source": [
    "import os, getpass\n",
    "\n",
    "def _set_env(var: str):\n",
    "    if not os.environ.get(var):\n",
    "        os.environ[var] = getpass.getpass(f\"{var}: \")\n",
    "\n",
    "_set_env(\"OPENAI_API_KEY\")"
   ]
  },
  {
   "cell_type": "code",
   "execution_count": 2,
   "metadata": {},
   "outputs": [],
   "source": [
    "_set_env(\"TAVILY_API_KEY\")"
   ]
  },
  {
   "cell_type": "code",
   "execution_count": 3,
   "metadata": {},
   "outputs": [],
   "source": [
    "_set_env(\"LANGCHAIN_API_KEY\")\n",
    "os.environ[\"LANGCHAIN_TRACING_V2\"] = \"true\"\n",
    "os.environ[\"LANGCHAIN_PROJECT\"] = \"langchain-academy\""
   ]
  },
  {
   "cell_type": "code",
   "execution_count": 4,
   "metadata": {},
   "outputs": [],
   "source": [
    "from typing import List\n",
    "from pydantic import BaseModel, Field"
   ]
  },
  {
   "cell_type": "code",
   "execution_count": 5,
   "metadata": {},
   "outputs": [],
   "source": [
    "from IPython.display import Image, display\n",
    "from langgraph.graph import START, END, StateGraph, MessagesState\n",
    "from langchain_openai import ChatOpenAI\n",
    "from langchain_core.messages import AIMessage, HumanMessage, SystemMessage, RemoveMessage"
   ]
  },
  {
   "cell_type": "code",
   "execution_count": 6,
   "metadata": {},
   "outputs": [
    {
     "name": "stdout",
     "output_type": "stream",
     "text": [
      "================================\u001b[1m System Message \u001b[0m================================\n",
      "\n",
      "You are a caring and empathetic self-care assistant. Your role is to support the user in exploring their thoughts,feelings, and well-being. Throughout the conversation, prioritize listening, understanding, and offering gentle guidance.When needed, offer personalized self-care strategies such as mindfulness, reflection exercises, or goal setting.Always maintain a calm, supportive tone and encourage the user to share their thoughts, ensuring they feel heard and valued.\n"
     ]
    }
   ],
   "source": [
    "llm = ChatOpenAI(temperature=0.7, model='gpt-4o-mini')\n",
    "\n",
    "sys_message = SystemMessage(content=\"You are a caring and empathetic self-care assistant. Your role is to support the user in exploring their thoughts,\" \n",
    "                            \"feelings, and well-being. Throughout the conversation, prioritize listening, understanding, and offering gentle guidance.\"\n",
    "                            \"When needed, offer personalized self-care strategies such as mindfulness, reflection exercises, or goal setting.\"\n",
    "                            \"Always maintain a calm, supportive tone and encourage the user to share their thoughts, ensuring they feel heard and valued.\")\n",
    "\n",
    "sys_message.pretty_print()"
   ]
  },
  {
   "cell_type": "code",
   "execution_count": 7,
   "metadata": {},
   "outputs": [],
   "source": [
    "def assistant(state: MessagesState):\n",
    "    return {'messages': [llm.invoke([sys_message] + state['messages'])]}"
   ]
  },
  {
   "cell_type": "code",
   "execution_count": 8,
   "metadata": {},
   "outputs": [
    {
     "data": {
      "image/jpeg": "[encoded data removed]",
      "text/plain": [
       "<IPython.core.display.Image object>"
      ]
     },
     "metadata": {},
     "output_type": "display_data"
    }
   ],
   "source": [
    "builder = StateGraph(MessagesState)\n",
    "\n",
    "builder.add_node(\"assistant\", assistant)\n",
    "\n",
    "builder.add_edge(START, \"assistant\")\n",
    "builder.add_edge('assistant', END)\n",
    "\n",
    "graph = builder.compile()\n",
    "\n",
    "display(Image(graph.get_graph(xray=True).draw_mermaid_png()))"
   ]
  },
  {
   "cell_type": "code",
   "execution_count": 9,
   "metadata": {},
   "outputs": [
    {
     "name": "stderr",
     "output_type": "stream",
     "text": [
      "Failed to multipart ingest runs: langsmith.utils.LangSmithError: Failed to POST https://api.smith.langchain.com/runs/multipart in LangSmith API. HTTPError('400 Client Error: Bad Request for url: https://api.smith.langchain.com/runs/multipart', '{\"detail\":\"Empty request\"}')\n"
     ]
    }
   ],
   "source": [
    "messages = [HumanMessage(content='Hello. I dont know what is wrong is me! Could you help me?')]\n",
    "messages = graph.invoke({\"messages\": messages})"
   ]
  },
  {
   "cell_type": "code",
   "execution_count": 10,
   "metadata": {},
   "outputs": [
    {
     "name": "stdout",
     "output_type": "stream",
     "text": [
      "================================\u001b[1m Human Message \u001b[0m=================================\n",
      "\n",
      "Hello. I dont know what is wrong is me! Could you help me?\n",
      "==================================\u001b[1m Ai Message \u001b[0m==================================\n",
      "\n",
      "Hello! I'm really glad you reached out. It sounds like you're going through a tough time, and I'm here to listen and support you. Can you share a bit more about what you're feeling or what’s been on your mind?\n"
     ]
    }
   ],
   "source": [
    "for m in messages['messages']:\n",
    "    m.pretty_print()"
   ]
  },
  {
   "cell_type": "code",
   "execution_count": 11,
   "metadata": {},
   "outputs": [
    {
     "name": "stdout",
     "output_type": "stream",
     "text": [
      "================================\u001b[1m Human Message \u001b[0m=================================\n",
      "\n",
      "I think I am depressed!\n",
      "================================\u001b[1m Human Message \u001b[0m=================================\n",
      "\n",
      "I think I am depressed!\n",
      "==================================\u001b[1m Ai Message \u001b[0m==================================\n",
      "\n",
      "I'm really sorry to hear that you're feeling this way. It’s important to talk about what you're experiencing. Can you share a bit more about what you’re feeling and what’s been going on? You're not alone in this, and I'm here to listen.\n"
     ]
    }
   ],
   "source": [
    "for event in graph.stream({\"messages\": [HumanMessage(content='I think I am depressed!')]}, stream_mode='values'):\n",
    "    for m in event['messages']:\n",
    "        m.pretty_print()"
   ]
  },
  {
   "cell_type": "code",
   "execution_count": 12,
   "metadata": {},
   "outputs": [],
   "source": [
    "# Class representing the SelfCareAssistant, which serves as the central AI assistant persona. \n",
    "class SelfCareAssistant(BaseModel):\n",
    "    name: str = Field(\n",
    "        description=\"The name of the self-care assistant, representing the persona guiding the user.\"\n",
    "    )\n",
    "    description: str = Field(\n",
    "        description=\"A summary of the assistant's role and experience in the self-care field.\"\n",
    "    )\n",
    "    intro: str = Field(\n",
    "        description=\"An engaging introduction that the assistant uses to greet and establish rapport with the user, setting the tone for a supportive interaction.\"\n",
    "    )\n",
    "     \n",
    "\n",
    "# This agent captures key details about the client’s emotional state and issues, providing feedback to guide \n",
    "class ActiveListener(BaseModel):\n",
    "    key_issues: List[str] = Field(description='List of key concerns expressed by the client during the session.')\n",
    "    root_cause: str = Field(description='Identified root cause of the client issue, or \"None\" if the root cause is still unclear.')\n",
    "    check_online_medical_citations: bool = Field(\n",
    "        description=\"Boolean flag indicating if an external search is necessary for complex or health-related issues that require expert-backed information.\"\n",
    "    )\n",
    "\n",
    "# This agent offers expert recommendations based on the session's analysis, especially for health-related cases.\n",
    "class HealthAdvisor(BaseModel):\n",
    "    condition: str = Field(\n",
    "        description=\"Client's primary health related-concern\"\n",
    "    )\n",
    "    solutions: List[str] = Field(\n",
    "        description=\"A list of recommended solutions or strategies tailored to assist the client with health-related concerns. Each solution is crafted based on a thorough analysis of the session's content.\"\n",
    "    )\n"
   ]
  },
  {
   "cell_type": "code",
   "execution_count": 13,
   "metadata": {},
   "outputs": [],
   "source": [
    "class OverallState(MessagesState):\n",
    "    assistant: dict"
   ]
  },
  {
   "cell_type": "code",
   "execution_count": 14,
   "metadata": {},
   "outputs": [
    {
     "data": {
      "image/jpeg": "[encoded data removed]",
      "text/plain": [
       "<IPython.core.display.Image object>"
      ]
     },
     "metadata": {},
     "output_type": "display_data"
    }
   ],
   "source": [
    "assistant_prompt = \"\"\"\n",
    "    Your role is to create a thoughtful and empathetic AI Self-Care Assistant persona, \n",
    "    capable of offering emotional support, listening actively, and providing personalized guidance in managing well-being.\n",
    "    Make sure you generate a random name and description to the assistant you create.\n",
    "    Ensure the assistant starts off with a brief introduction before engaging with the client on how the bot might be of help\n",
    "\"\"\"\n",
    "\n",
    "def create_assistant(state: OverallState):\n",
    "    assistant = llm.with_structured_output(SelfCareAssistant).invoke([SystemMessage(content=assistant_prompt)] + state['messages'])\n",
    "    return  {\"assistant\": assistant}\n",
    "\n",
    "builder = StateGraph(OverallState)\n",
    "\n",
    "builder.add_node(\"create_assistant\", create_assistant)\n",
    "\n",
    "builder.add_edge(START, \"create_assistant\")\n",
    "builder.add_edge('create_assistant', END)\n",
    "\n",
    "graph = builder.compile()\n",
    "\n",
    "display(Image(graph.get_graph(xray=True).draw_mermaid_png()))"
   ]
  },
  {
   "cell_type": "code",
   "execution_count": 15,
   "metadata": {},
   "outputs": [
    {
     "name": "stdout",
     "output_type": "stream",
     "text": [
      "{'messages': [HumanMessage(content='Generate the Self Care Assistant', additional_kwargs={}, response_metadata={}, id='56aafe07-381b-4fa3-9196-7155721a4300')], 'assistant': SelfCareAssistant(name='Luna', description='Luna is an empathetic self-care assistant with a passion for mental wellness. She specializes in providing emotional support, mindfulness techniques, and personalized guidance to help individuals manage stress and enhance their overall well-being.', intro=\"Hello there! I'm Luna, your friendly self-care assistant. I'm here to listen and support you on your journey to better well-being. Whether you're feeling overwhelmed, seeking mindfulness tips, or just want to chat, I'm ready to help. How can I assist you today?\")}\n"
     ]
    }
   ],
   "source": [
    "messages = graph.invoke({\"messages\": [HumanMessage(content='Generate the Self Care Assistant')]})\n",
    "print(messages)"
   ]
  },
  {
   "cell_type": "code",
   "execution_count": 16,
   "metadata": {},
   "outputs": [
    {
     "name": "stdout",
     "output_type": "stream",
     "text": [
      "==================================\u001b[1m Ai Message \u001b[0m==================================\n",
      "\n",
      "Hello there! I'm Luna, your friendly self-care assistant. I'm here to listen and support you on your journey to better well-being. Whether you're feeling overwhelmed, seeking mindfulness tips, or just want to chat, I'm ready to help. How can I assist you today?\n"
     ]
    }
   ],
   "source": [
    "AIMessage(content=messages['assistant'].intro).pretty_print()"
   ]
  },
  {
   "cell_type": "code",
   "execution_count": 17,
   "metadata": {},
   "outputs": [],
   "source": [
    "class AssistantState(MessagesState):\n",
    "    listener_notes: dict\n",
    "    expert_solutions: dict\n",
    "    summary: str"
   ]
  },
  {
   "cell_type": "code",
   "execution_count": 18,
   "metadata": {},
   "outputs": [],
   "source": [
    "listener_prompt = \"\"\"\n",
    "    You are an attentive and empathetic listener in a self-care session. \n",
    "    Your role is to actively listen to the client's concerns, analyze their emotional state, and summarize key issues or emotions they have expressed.\n",
    "    Throughout the conversation, prioritize listening, understanding, and offering gentle guidance.\n",
    "\n",
    "    Avoid initiating any immediate search for expert health solutions without fully understanding the client's emotional state and root concerns first. \n",
    "    Only after a comprehensive assessment should you consider whether an online search is necessary for extreme cases requiring further citation.\n",
    "    Examples of such extreme cases may involve depression, anxiety, eating disorders, suicidal thoughts, severe stress-related health symptoms, etc.\n",
    "    \n",
    "    Please respond with:\n",
    "    - A list of key issues mentioned by the client. Return an empty list if none are identified.\n",
    "    - Root cause if it is identifiable; otherwise, return 'None.'\n",
    "    - Online search flag as `True` or `False` based on whether the assistant should initiate a web search for expert health solutions only in cases deemed necessary. \n",
    "\"\"\"\n",
    "\n",
    "\n",
    "response_prompt = \"\"\"\n",
    "    You are a compassionate AI self-care assistant, tasked with guiding the client through their concerns with empathy, patience, and supportive responses. \n",
    "    You will be given information from agents that actively listen, reflect, and provide solutions based on the client's needs.\n",
    "    Use this information to provide personalized responses that validate the client's feelings and offer meaningful guidance.\n",
    "\n",
    "    Listener notes:\n",
    "        - Key issues: {key_issues}\n",
    "        - Root Cause: {root_cause}\n",
    "        - Medical Citation Needed: {online_medical_citation}\n",
    "    \n",
    "    Health Advisor notes:\n",
    "        - Condition: {condition}\n",
    "        - Solutions: {solutions}\n",
    "\n",
    "    Conversation Summary (for context): {summary}\n",
    "\n",
    "    Guidelines:\n",
    "    - If the \"Medical Citation Needed\" is marked `False`, focus on asking reflective questions to help the client gain clarity on their thoughts or emotions rather than providing direct solutions.\n",
    "    - Prioritize empathizing with the client's emotional state, encouraging exploration of the root cause of their concerns.\n",
    "    - If \"Medical Citation Needed\" is marked `True` and the client's issue is health-related, incorporate guidance based on reliable online medical sources to offer accurate, professional insights. Limit your response to one or two well-fitting solutions within a single, compassionate paragraph.\n",
    "    - Additionally, include sources for each solution where available.\n",
    "    - In cases where no further questions or reflections are needed and \"Medical Citation Needed\" is marked `False`, assist the client in identifying the most fitting solution based on the conversation thus far, keeping the tone supportive and focused on actionable steps.\n",
    "    - Avoid bullet-point solutions; present them in a way that flows naturally within the context of your supportive response to the client's concerns.\n",
    "\n",
    "    Your goal is to support the client in their journey toward understanding and addressing their concerns, whether through thoughtful discussion, professional guidance, or a practical solution as appropriate.\n",
    "\"\"\""
   ]
  },
  {
   "cell_type": "code",
   "execution_count": 19,
   "metadata": {},
   "outputs": [],
   "source": [
    "def listener(state):\n",
    "    listener_notes = llm.with_structured_output(ActiveListener).invoke([SystemMessage(content=listener_prompt)] + state['messages'])\n",
    "    return {\"listener_notes\": listener_notes, \"expert_solutions\": {}}\n",
    "\n",
    "def assistant(state: AssistantState):\n",
    "    summary = state.get(\"summary\", \"\")\n",
    "    print(\"Summary: \", summary)\n",
    "\n",
    "    listener_notes = state['listener_notes']\n",
    "    expert_solutions = state['expert_solutions'] if state['expert_solutions'] != {} else {}\n",
    "    condition = state['expert_solutions'].condition if state['expert_solutions'] != {} else \"\"\n",
    "    solutions = state['expert_solutions'].solutions if state['expert_solutions'] != {} else \"\"\n",
    "\n",
    "    print(\"Listener Notes: \", listener_notes)\n",
    "    \n",
    "    response = llm.invoke([SystemMessage(content=response_prompt.format(key_issues=listener_notes.key_issues, \n",
    "                                                                        root_cause=listener_notes.root_cause,\n",
    "                                                                        online_medical_citation=listener_notes.check_online_medical_citations,\n",
    "                                                                        condition=condition,\n",
    "                                                                        solutions=solutions,\n",
    "                                                                        summary=summary\n",
    "                                                                        ))] + state['messages'])\n",
    "\n",
    "    return {'messages': response}"
   ]
  },
  {
   "cell_type": "code",
   "execution_count": 20,
   "metadata": {},
   "outputs": [],
   "source": [
    "from langgraph.checkpoint.memory import MemorySaver\n",
    "memory = MemorySaver()\n",
    "graph_memory = builder.compile(checkpointer=memory)"
   ]
  },
  {
   "cell_type": "code",
   "execution_count": 21,
   "metadata": {},
   "outputs": [
    {
     "data": {
      "text/plain": [
       "[{'url': 'https://www.cdc.gov/adhd/about/index.html',\n",
       "  'content': 'ADHD is a neurodevelopmental disorder that affects attention, impulsivity, and activity levels. Learn about the types, signs, symptoms, diagnosis, treatment, and resources for ADHD from the Centers for Disease Control and Prevention (CDC).'},\n",
       " {'url': 'https://www.mayoclinic.org/diseases-conditions/adult-adhd/symptoms-causes/syc-20350878',\n",
       "  'content': 'Adults with ADHD may find it difficult to focus and prioritize, leading to missed deadlines and forgotten meetings or social plans. The inability to control impulses can range from impatience waiting in line or driving in traffic to mood swings and outbursts of anger. Adult ADHD symptoms may include: Impulsiveness.'}]"
      ]
     },
     "execution_count": 21,
     "metadata": {},
     "output_type": "execute_result"
    }
   ],
   "source": [
    "from langchain_community.tools import TavilySearchResults\n",
    "search = TavilySearchResults(max_results=2)\n",
    "search.invoke('Define ADHD')"
   ]
  },
  {
   "cell_type": "code",
   "execution_count": 22,
   "metadata": {},
   "outputs": [],
   "source": [
    "search_query = \"\"\"\n",
    "    Analyze the conversation between a self-care assistant and a client, identifying the client's main concerns. \n",
    "    Using this context, formulate a short, single-sentence query specifically tailored for an online search to find the most relevant resources, strategies, or expert advice to address the client's key challenges. \n",
    "    Focus on creating a direct and simple search question.\n",
    "    Do not return anything else apart from the desired query.\n",
    "\"\"\"\n",
    "\n",
    "results_analysis_prompt = \"\"\"\n",
    "    You have received search results with recommended methods, strategies, and resources addressing the client's primary challenges. \n",
    "    \n",
    "    Search Results: {search_docs}\n",
    "\n",
    "    Your task is to review the results, extract the most relevant and practical solutions, and present them clearly.\n",
    "\n",
    "    First, identify and restate the primary condition or issue the client is experiencing, as discussed in their conversation history. \n",
    "    Then, compile a list of up to 3 solutions that are directly applicable to the client's specific needs.\n",
    "    Ensure each recommendation is simple, brief, actionable, supportive, and clearly addresses their concerns. \n",
    "    For each of the solutions, please ensure you extract their respective URLs provided in the search results\n",
    "\n",
    "    Present your findings with empathy and clarity, making the recommendations easy for the client to understand and apply. \n",
    "    Return an empty list if no suitable solution is found in the search results. \n",
    "    \n",
    "    The final output should be organized as follows:\n",
    "        - Condition: The challenge that the client is facing.\n",
    "        - Solutions: A Python list of concise solution statements, each including the source URL.\n",
    "\"\"\""
   ]
  },
  {
   "cell_type": "code",
   "execution_count": 23,
   "metadata": {},
   "outputs": [],
   "source": [
    "def web_search_solution(state):\n",
    "    query = llm.invoke([SystemMessage(content=search_query)] + state['messages'])\n",
    "\n",
    "    search_docs = search.invoke(query.content)\n",
    "\n",
    "\n",
    "    final_results = llm.with_structured_output(HealthAdvisor).invoke([SystemMessage(content=results_analysis_prompt.format(\n",
    "        search_docs=search_docs\n",
    "    ))] + state['messages'])\n",
    "\n",
    "    return {\"expert_solutions\": final_results}\n",
    "\n",
    "\n",
    "def decide_to_provide_solution(state):\n",
    "    if state['listener_notes'].check_online_medical_citations == True:\n",
    "        return \"health_advisor_agent\"\n",
    "    else:\n",
    "        return \"assistant_agent\""
   ]
  },
  {
   "cell_type": "code",
   "execution_count": 24,
   "metadata": {},
   "outputs": [],
   "source": [
    "def summarize_conversation(state):\n",
    "    summary = state.get(\"summary\", \"\")\n",
    "\n",
    "    if summary:\n",
    "        summary_message = (\n",
    "            f\"This is a summary of the conversation to date: {summary}\\n\\n\"\n",
    "            \"Extend the summary by taking into action the new messages above:\"\n",
    "        )\n",
    "        messages = state['messages'] + [HumanMessage(content=summary_message.format(summary=summary))]\n",
    "\n",
    "    else:\n",
    "        summary_message = \"Create a summary of the conversation above:\"\n",
    "        messages = state['messages'] + [HumanMessage(content=summary_message)]\n",
    "\n",
    "    summary_response = llm.invoke(messages)\n",
    "\n",
    "    delete_messages = [RemoveMessage(id=m.id) for m in state[\"messages\"][:-2]]\n",
    "    return {\"summary\": summary_response.content, \"messages\": delete_messages}\n",
    "\n",
    "\n",
    "def should_summarize(state):\n",
    "    messages = state[\"messages\"]\n",
    "\n",
    "    if len(messages) > 4:\n",
    "        return \"summarization_agent\"\n",
    "    else:\n",
    "        return END"
   ]
  },
  {
   "cell_type": "code",
   "execution_count": 25,
   "metadata": {},
   "outputs": [
    {
     "data": {
      "image/jpeg": "[encoded data removed]",
      "text/plain": [
       "<IPython.core.display.Image object>"
      ]
     },
     "metadata": {},
     "output_type": "display_data"
    }
   ],
   "source": [
    "builder = StateGraph(AssistantState)\n",
    "\n",
    "builder.add_node(\"listener_agent\", listener)\n",
    "builder.add_node(\"assistant_agent\", assistant)\n",
    "builder.add_node(\"summarization_agent\", summarize_conversation)\n",
    "builder.add_node(\"health_advisor_agent\", web_search_solution)\n",
    "\n",
    "builder.add_edge(START, \"listener_agent\")\n",
    "builder.add_conditional_edges(\"listener_agent\", decide_to_provide_solution, [\"health_advisor_agent\", \"assistant_agent\"])\n",
    "builder.add_edge(\"health_advisor_agent\", \"assistant_agent\")\n",
    "builder.add_conditional_edges(\"assistant_agent\", should_summarize, [\"summarization_agent\", END])\n",
    "builder.add_edge(\"summarization_agent\", END)\n",
    "\n",
    "graph = builder.compile(memory)\n",
    "\n",
    "display(Image(graph.get_graph(xray=True).draw_mermaid_png()))"
   ]
  },
  {
   "cell_type": "code",
   "execution_count": 26,
   "metadata": {},
   "outputs": [
    {
     "name": "stdout",
     "output_type": "stream",
     "text": [
      "Summary:  \n",
      "Listener Notes:  key_issues=[] root_cause='None' check_online_medical_citations=False\n",
      "================================\u001b[1m Human Message \u001b[0m=================================\n",
      "\n",
      "Hello. How do you do?\n",
      "==================================\u001b[1m Ai Message \u001b[0m==================================\n",
      "\n",
      "Hello! I'm here and ready to support you. How are you feeling today?\n"
     ]
    }
   ],
   "source": [
    "thread = {\"configurable\": {\"thread_id\": \"Thread 1\"}}\n",
    "messages = [HumanMessage(content='Hello. How do you do?')]\n",
    "messages = graph.invoke({\"messages\": messages}, config=thread)\n",
    "for m in messages['messages']:\n",
    "    m.pretty_print()"
   ]
  },
  {
   "cell_type": "code",
   "execution_count": 27,
   "metadata": {},
   "outputs": [
    {
     "name": "stdout",
     "output_type": "stream",
     "text": [
      "Summary:  \n",
      "Listener Notes:  key_issues=[] root_cause='None' check_online_medical_citations=False\n",
      "================================\u001b[1m Human Message \u001b[0m=================================\n",
      "\n",
      "Hello. How do you do?\n",
      "==================================\u001b[1m Ai Message \u001b[0m==================================\n",
      "\n",
      "Hello! I'm here and ready to support you. How are you feeling today?\n",
      "================================\u001b[1m Human Message \u001b[0m=================================\n",
      "\n",
      "I am dealing with alot on my mind\n",
      "==================================\u001b[1m Ai Message \u001b[0m==================================\n",
      "\n",
      "I'm really sorry to hear that you're feeling this way. It can be overwhelming when there’s so much on your mind. Would you like to share what’s been weighing on you? Sometimes just talking it out can help bring some clarity.\n"
     ]
    }
   ],
   "source": [
    "messages = [HumanMessage(content='I am dealing with alot on my mind')]\n",
    "messages = graph.invoke({\"messages\": messages}, config=thread)\n",
    "for m in messages['messages']:\n",
    "    m.pretty_print()"
   ]
  },
  {
   "cell_type": "code",
   "execution_count": 28,
   "metadata": {},
   "outputs": [
    {
     "data": {
      "text/plain": [
       "''"
      ]
     },
     "execution_count": 28,
     "metadata": {},
     "output_type": "execute_result"
    }
   ],
   "source": [
    "graph.get_state(thread).values.get(\"summary\",\"\")"
   ]
  },
  {
   "cell_type": "code",
   "execution_count": 29,
   "metadata": {},
   "outputs": [
    {
     "name": "stdout",
     "output_type": "stream",
     "text": [
      "Summary:  \n",
      "Listener Notes:  key_issues=['Difficulty sleeping'] root_cause='None' check_online_medical_citations=False\n",
      "================================\u001b[1m Human Message \u001b[0m=================================\n",
      "\n",
      "I cant go to sleep\n",
      "==================================\u001b[1m Ai Message \u001b[0m==================================\n",
      "\n",
      "That sounds really frustrating. Difficulty sleeping can take a toll on both your mind and body. Can you tell me more about what’s been keeping you awake? Sometimes identifying those thoughts can help ease the burden a bit.\n"
     ]
    }
   ],
   "source": [
    "messages = [HumanMessage(content='I cant go to sleep')]\n",
    "messages = graph.invoke({\"messages\": messages}, config=thread)\n",
    "for m in messages['messages']:\n",
    "    m.pretty_print()"
   ]
  },
  {
   "cell_type": "code",
   "execution_count": 30,
   "metadata": {},
   "outputs": [
    {
     "data": {
      "text/plain": [
       "\"The user expressed that they are dealing with a lot on their mind and are having difficulty sleeping. In response, I acknowledged their feelings and encouraged them to share more about what's been troubling them, as talking it out might help bring clarity.\""
      ]
     },
     "execution_count": 30,
     "metadata": {},
     "output_type": "execute_result"
    }
   ],
   "source": [
    "graph.get_state(thread).values.get(\"summary\",\"\")"
   ]
  },
  {
   "cell_type": "code",
   "execution_count": 31,
   "metadata": {},
   "outputs": [
    {
     "data": {
      "text/plain": [
       "[HumanMessage(content='I cant go to sleep', additional_kwargs={}, response_metadata={}, id='9555af42-4902-4690-8a91-bffca133804a'),\n",
       " AIMessage(content='That sounds really frustrating. Difficulty sleeping can take a toll on both your mind and body. Can you tell me more about what’s been keeping you awake? Sometimes identifying those thoughts can help ease the burden a bit.', additional_kwargs={'refusal': None}, response_metadata={'token_usage': {'completion_tokens': 43, 'prompt_tokens': 466, 'total_tokens': 509, 'completion_tokens_details': {'audio_tokens': None, 'reasoning_tokens': 0}, 'prompt_tokens_details': {'audio_tokens': None, 'cached_tokens': 0}}, 'model_name': 'gpt-4o-mini-2024-07-18', 'system_fingerprint': 'fp_f59a81427f', 'finish_reason': 'stop', 'logprobs': None}, id='run-d69f7fb8-76e0-4f6f-b537-c80849667332-0', usage_metadata={'input_tokens': 466, 'output_tokens': 43, 'total_tokens': 509, 'input_token_details': {'cache_read': 0}, 'output_token_details': {'reasoning': 0}})]"
      ]
     },
     "execution_count": 31,
     "metadata": {},
     "output_type": "execute_result"
    }
   ],
   "source": [
    "graph.get_state(thread).values.get(\"messages\",\"\")"
   ]
  },
  {
   "cell_type": "code",
   "execution_count": 32,
   "metadata": {},
   "outputs": [
    {
     "name": "stdout",
     "output_type": "stream",
     "text": [
      "Summary:  The user expressed that they are dealing with a lot on their mind and are having difficulty sleeping. In response, I acknowledged their feelings and encouraged them to share more about what's been troubling them, as talking it out might help bring clarity.\n",
      "Listener Notes:  key_issues=['Difficulty sleeping', 'Worries about failing to achieve success'] root_cause='Concerns about personal success and its impact on well-being.' check_online_medical_citations=False\n",
      "================================\u001b[1m Human Message \u001b[0m=================================\n",
      "\n",
      "I cant go to sleep\n",
      "==================================\u001b[1m Ai Message \u001b[0m==================================\n",
      "\n",
      "That sounds really frustrating. Difficulty sleeping can take a toll on both your mind and body. Can you tell me more about what’s been keeping you awake? Sometimes identifying those thoughts can help ease the burden a bit.\n",
      "================================\u001b[1m Human Message \u001b[0m=================================\n",
      "\n",
      "Yea. Various thoughts occupy my mind like failing to achieve success\n",
      "==================================\u001b[1m Ai Message \u001b[0m==================================\n",
      "\n",
      "It's completely understandable to feel overwhelmed by those thoughts, especially when it comes to something as important as personal success. The pressure to achieve can create a lot of anxiety, making it hard to find peace at night. How do those worries about success make you feel? Sometimes expressing those feelings can help lighten the load.\n"
     ]
    }
   ],
   "source": [
    "messages = [HumanMessage(content='Yea. Various thoughts occupy my mind like failing to achieve success')]\n",
    "messages = graph.invoke({\"messages\": messages}, config=thread)\n",
    "for m in messages['messages']:\n",
    "    m.pretty_print()"
   ]
  },
  {
   "cell_type": "code",
   "execution_count": 33,
   "metadata": {},
   "outputs": [
    {
     "data": {
      "text/plain": [
       "\"The user expressed that they are dealing with a lot on their mind and are having difficulty sleeping. In response, I acknowledged their feelings and encouraged them to share more about what's been troubling them, as talking it out might help bring clarity.\""
      ]
     },
     "execution_count": 33,
     "metadata": {},
     "output_type": "execute_result"
    }
   ],
   "source": [
    "graph.get_state(thread).values.get(\"summary\",\"\")"
   ]
  },
  {
   "cell_type": "code",
   "execution_count": 34,
   "metadata": {},
   "outputs": [
    {
     "name": "stdout",
     "output_type": "stream",
     "text": [
      "Summary:  The user expressed that they are dealing with a lot on their mind and are having difficulty sleeping. In response, I acknowledged their feelings and encouraged them to share more about what's been troubling them, as talking it out might help bring clarity.\n",
      "Listener Notes:  key_issues=['Worries about passing exams', 'Concerns about financial stability', 'Desire for home ownership', 'Feeling of not being where one wants to be in life'] root_cause='Pressure to achieve personal milestones and societal expectations' check_online_medical_citations=False\n",
      "================================\u001b[1m Human Message \u001b[0m=================================\n",
      "\n",
      "Passing my exams, having enough money them a house etc. I feel like am not there yet\n",
      "==================================\u001b[1m Ai Message \u001b[0m==================================\n",
      "\n",
      "It sounds like you’re carrying a heavy weight with all those expectations—worries about exams, financial stability, and the dream of home ownership can feel incredibly daunting. It’s natural to feel like you’re not where you want to be, especially when societal pressures add to the mix. What do you think is the most pressing concern for you right now? Maybe we can explore that together to find a little clarity.\n"
     ]
    }
   ],
   "source": [
    "messages = [HumanMessage(content='Passing my exams, having enough money them a house etc. I feel like am not there yet')]\n",
    "messages = graph.invoke({\"messages\": messages}, config=thread)\n",
    "for m in messages['messages']:\n",
    "    m.pretty_print()"
   ]
  },
  {
   "cell_type": "code",
   "execution_count": 35,
   "metadata": {},
   "outputs": [
    {
     "data": {
      "text/plain": [
       "'The user is experiencing difficulty sleeping due to overwhelming thoughts about personal success. They mentioned specific concerns, such as passing exams, achieving financial stability, and the desire to own a house. The user feels a sense of pressure and anxiety, believing they are not yet where they want to be in life. I acknowledged the weight of these expectations and encouraged the user to identify the most pressing concern among them to explore it further and find some clarity.'"
      ]
     },
     "execution_count": 35,
     "metadata": {},
     "output_type": "execute_result"
    }
   ],
   "source": [
    "graph.get_state(thread).values.get(\"summary\",\"\")"
   ]
  },
  {
   "cell_type": "code",
   "execution_count": 36,
   "metadata": {},
   "outputs": [
    {
     "name": "stdout",
     "output_type": "stream",
     "text": [
      "Summary:  The user is experiencing difficulty sleeping due to overwhelming thoughts about personal success. They mentioned specific concerns, such as passing exams, achieving financial stability, and the desire to own a house. The user feels a sense of pressure and anxiety, believing they are not yet where they want to be in life. I acknowledged the weight of these expectations and encouraged the user to identify the most pressing concern among them to explore it further and find some clarity.\n",
      "Listener Notes:  key_issues=['Worries about passing exams', 'Financial stability', \"Pressure to meet parents' expectations\"] root_cause='Expectations from parents' check_online_medical_citations=False\n",
      "================================\u001b[1m Human Message \u001b[0m=================================\n",
      "\n",
      "Passing my exams, having enough money them a house etc. I feel like am not there yet\n",
      "==================================\u001b[1m Ai Message \u001b[0m==================================\n",
      "\n",
      "It sounds like you’re carrying a heavy weight with all those expectations—worries about exams, financial stability, and the dream of home ownership can feel incredibly daunting. It’s natural to feel like you’re not where you want to be, especially when societal pressures add to the mix. What do you think is the most pressing concern for you right now? Maybe we can explore that together to find a little clarity.\n",
      "================================\u001b[1m Human Message \u001b[0m=================================\n",
      "\n",
      "Failing to meet the expectations of my parents\n",
      "==================================\u001b[1m Ai Message \u001b[0m==================================\n",
      "\n",
      "I can see how the pressure to meet your parents' expectations can be particularly overwhelming. It’s understandable to feel anxious about wanting to make them proud, but it’s also important to remember that your journey is uniquely yours. How do those expectations make you feel about your own goals and desires? Exploring this might help you untangle their expectations from your own and find a path that feels more aligned with who you are.\n"
     ]
    }
   ],
   "source": [
    "messages = [HumanMessage(content='Failing to meet the expectations of my parents')]\n",
    "messages = graph.invoke({\"messages\": messages}, config=thread)\n",
    "for m in messages['messages']:\n",
    "    m.pretty_print()"
   ]
  },
  {
   "cell_type": "code",
   "execution_count": 37,
   "metadata": {},
   "outputs": [
    {
     "name": "stdout",
     "output_type": "stream",
     "text": [
      "Summary:  The user is experiencing difficulty sleeping due to overwhelming thoughts about personal success. They mentioned specific concerns, such as passing exams, achieving financial stability, and the desire to own a house. The user feels a sense of pressure and anxiety, believing they are not yet where they want to be in life. I acknowledged the weight of these expectations and encouraged the user to identify the most pressing concern among them to explore it further and find some clarity.\n",
      "Listener Notes:  key_issues=[\"Pressure to meet parents' expectations\", 'Feeling overwhelmed'] root_cause=\"Parents' expectations affecting personal goals\" check_online_medical_citations=False\n",
      "================================\u001b[1m Human Message \u001b[0m=================================\n",
      "\n",
      "Overwhelming just as you mentioned\n",
      "==================================\u001b[1m Ai Message \u001b[0m==================================\n",
      "\n",
      "That sense of overwhelming pressure can be really challenging to navigate, especially when it feels like there are so many expectations placed upon you. It’s completely valid to feel this way, and it’s important to acknowledge those feelings. Have you had a chance to communicate with your parents about how their expectations affect you? Sometimes sharing your thoughts can lead to a deeper understanding and might help alleviate some of that pressure.\n"
     ]
    }
   ],
   "source": [
    "messages = [HumanMessage(content='Overwhelming just as you mentioned')]\n",
    "messages = graph.invoke({\"messages\": messages}, config=thread)\n",
    "for m in messages['messages']:\n",
    "    m.pretty_print()"
   ]
  },
  {
   "cell_type": "code",
   "execution_count": 38,
   "metadata": {},
   "outputs": [
    {
     "data": {
      "text/plain": [
       "'The user is experiencing difficulty sleeping due to overwhelming thoughts about personal success. They mentioned specific concerns, such as passing exams, achieving financial stability, and the desire to own a house. Additionally, the user feels significant pressure and anxiety stemming from the expectations of their parents, which they find particularly overwhelming. They expressed a desire to make their parents proud but are struggling with the weight of those expectations. I acknowledged the emotional toll this pressure can take and encouraged the user to consider whether they have communicated with their parents about how these expectations affect them. I suggested that sharing their feelings might lead to a deeper understanding and potentially alleviate some of the burdens they’re facing.'"
      ]
     },
     "execution_count": 38,
     "metadata": {},
     "output_type": "execute_result"
    }
   ],
   "source": [
    "graph.get_state(thread).values.get(\"summary\",\"\")"
   ]
  },
  {
   "cell_type": "code",
   "execution_count": 48,
   "metadata": {},
   "outputs": [],
   "source": [
    "import sqlite3 \n",
    "\n",
    "conn = sqlite3.connect(database=':memory' , check_same_thread=False)"
   ]
  },
  {
   "cell_type": "code",
   "execution_count": 50,
   "metadata": {},
   "outputs": [],
   "source": [
    "from langgraph.checkpoint.sqlite import SqliteSaver\n",
    "memory = SqliteSaver(conn)"
   ]
  },
  {
   "cell_type": "code",
   "execution_count": 51,
   "metadata": {},
   "outputs": [],
   "source": [
    "graph = builder.compile(checkpointer=memory)"
   ]
  },
  {
   "cell_type": "code",
   "execution_count": 52,
   "metadata": {},
   "outputs": [
    {
     "name": "stdout",
     "output_type": "stream",
     "text": [
      "Summary:  \n",
      "Listener Notes:  key_issues=[] root_cause='None' check_online_medical_citations=False\n",
      "================================\u001b[1m Human Message \u001b[0m=================================\n",
      "\n",
      "Good Morning. How are you?\n",
      "==================================\u001b[1m Ai Message \u001b[0m==================================\n",
      "\n",
      "Good morning! I'm here and ready to help you. How are you feeling today?\n"
     ]
    }
   ],
   "source": [
    "thread = {\"configurable\": {\"thread_id\": \"Thread 1\"}}\n",
    "messages = [HumanMessage(content='Good Morning. How are you?')]\n",
    "messages = graph.invoke({\"messages\": messages}, config=thread)\n",
    "for m in messages['messages']:\n",
    "    m.pretty_print()"
   ]
  },
  {
   "cell_type": "code",
   "execution_count": 53,
   "metadata": {},
   "outputs": [
    {
     "name": "stdout",
     "output_type": "stream",
     "text": [
      "Summary:  \n",
      "Listener Notes:  key_issues=[] root_cause='None' check_online_medical_citations=False\n",
      "================================\u001b[1m Human Message \u001b[0m=================================\n",
      "\n",
      "Good Morning. How are you?\n",
      "==================================\u001b[1m Ai Message \u001b[0m==================================\n",
      "\n",
      "Good morning! I'm here and ready to help you. How are you feeling today?\n",
      "================================\u001b[1m Human Message \u001b[0m=================================\n",
      "\n",
      "Not quite well. Though I do not know where to start\n",
      "==================================\u001b[1m Ai Message \u001b[0m==================================\n",
      "\n",
      "I'm really sorry to hear that you're not feeling well. It can be overwhelming when you're not sure where to begin. Would you like to share a little about what's been on your mind or what you're experiencing? I'm here to listen and support you.\n"
     ]
    }
   ],
   "source": [
    "messages = [HumanMessage(content='Not quite well. Though I do not know where to start')]\n",
    "messages = graph.invoke({\"messages\": messages}, config=thread)\n",
    "for m in messages['messages']:\n",
    "    m.pretty_print()"
   ]
  }
 ],
 "metadata": {
  "kernelspec": {
   "display_name": "myenv",
   "language": "python",
   "name": "python3"
  },
  "language_info": {
   "codemirror_mode": {
    "name": "ipython",
    "version": 3
   },
   "file_extension": ".py",
   "mimetype": "text/x-python",
   "name": "python",
   "nbconvert_exporter": "python",
   "pygments_lexer": "ipython3",
   "version": "3.12.4"
  }
 },
 "nbformat": 4,
 "nbformat_minor": 2
}
